{
 "cells": [
  {
   "cell_type": "markdown",
   "metadata": {
    "tags": [
     "笔记"
    ]
   },
   "source": [
    "### 使用ctype模块调用动态链接库中导出的函数\n",
    "#### 动态链接库函数的解析与访问\n",
    "1. 动态链接库本身是一些经过编译的二进制文件，只在运行时才会被链接进主进程。\n",
    "    + Windows平台这些二进制文件被称为动态链接库（DLL，Dynamic Link Library）\n",
    "    + Linux平台则为共享对象（SO，Shared Object）\n",
    "    + macOS平台则为dylib\n",
    "2. 这些二进制文件通过导出函数名称的方式来呈现它们所包含的函数，而函数名称会被解析成内存中实际的函数地址。\n",
    "3. 在Python中调用这些链接库函数需要自行解析出这些导出函数的地址，这就是ctype模块的作用。\n",
    "\n",
    "#### ctype模块提供的三种动态链接库加载方式\n",
    "1. `cdll()`加载遵循cdecl标准函数调用约定的链接库。\n",
    "2. `windll()`加载遵循stdcall调用约定的动态链接库，stdcall是微软**Win32 API**使用的原生调用约定。\n",
    "3. `oledll()`与`windll()`类似，但`oledll()`会假定其载入的函数会统一返回一个Windows HRESULT错误编码，该编码专门服务于微软的COM（组件对象模型）函数，用于表示错误信息。"
   ]
  },
  {
   "cell_type": "code",
   "execution_count": 6,
   "metadata": {
    "tags": [
     "代码"
    ]
   },
   "outputs": [
    {
     "data": {
      "text/plain": [
       "22"
      ]
     },
     "execution_count": 6,
     "metadata": {},
     "output_type": "execute_result"
    }
   ],
   "source": [
    "#!/usr/bin python3\n",
    "# chapter1-printf.py\n",
    "from ctypes import *\n",
    "msvcrt = cdll.msvcrt # Windows\n",
    "# libc = CDLL(\"libc.so\") # Linux\n",
    "# libc = CDLL(\"libc.dylib\") # macOS\n",
    "msg_str = \"hello world!\\n\"\n",
    "msvcrt.wprintf(\"Testing: %s\", msg_str)\n",
    "# msg_str = b\"hello world!\\n\"\n",
    "# msvcrt.printf(b\"Testing: %s\", msg_str)"
   ]
  },
  {
   "cell_type": "markdown",
   "metadata": {
    "tags": [
     "注释"
    ]
   },
   "source": [
    "Python交互式shell等会输出字符串的长度（算上'\\0'，在此为22）\n",
    "```jupyter\n",
    "Out: 22\n",
    "```\n",
    "而测试字符串是在终端输出！！\n",
    "```bash\n",
    "Testing: hello world!\n",
    "```"
   ]
  },
  {
   "cell_type": "markdown",
   "metadata": {
    "tags": [
     "笔记"
    ]
   },
   "source": [
    "构建C数据类型，下表是基本数据类型在C、Python以及ctypes类型之间的转换和对应关系。\n",
    "\n",
    "| C 类型 | Python 类型 | ctypes 类型 |\n",
    "| :--- | :--- | :--- |\n",
    "| `_Bool` | bool (1) | c_bool |\n",
    "| `char` | 1-character **bytes** object | c_char |\n",
    "| `wchar_t` | 1-character string <br> (in Python3 string is **unicode**) | c_wchar |\n",
    "| `char` | int | c_byte |\n",
    "| `unsigned char` | int | c_ubyte |\n",
    "| `short` | int | c_short |\n",
    "| `unsigned short` | int | c_ushort |\n",
    "| `int` | int | c_int |\n",
    "| `unsigned int` | int | c_uint |\n",
    "| `long` | int | c_long |\n",
    "| `unsigned long` | int | c_ulong |\n",
    "| `__int64` or `long long` | int | c_longlong |\n",
    "| `unsigned __int64` <br> or `unsigned long long` | int | c_ulonglong |\n",
    "| `size_t` | int | c_size_t |\n",
    "| `float` | float | c_float |\n",
    "| `double` | float | c_double |\n",
    "| `long double` | float | c_longdouble |\n",
    "| `char *` (NUL terminated) | bytes object or None | c_char_p |\n",
    "| `wchar_t *` (NUL terminated) | string or None | c_wchar_p |\n",
    "| `void *` | int or None | c_void_p |\n",
    "\n",
    "下面是基本类型示例代码和如何用ctype模块定义结构体和联合体。"
   ]
  },
  {
   "cell_type": "code",
   "execution_count": 7,
   "metadata": {
    "tags": [
     "代码"
    ]
   },
   "outputs": [
    {
     "name": "stdout",
     "output_type": "stream",
     "text": [
      "c_long(0)\n",
      "c_ushort(65531)\n",
      "c_char_p(1667176826064)\n",
      "Hello world\n"
     ]
    }
   ],
   "source": [
    "# 示例代码，最好在Python交互式Shell输入，可以免去print()函数。\n",
    "from ctypes import *\n",
    "print(c_int())\n",
    "print(c_ushort(-5))\n",
    "print(c_char_p(b\"Hello world\"))\n",
    "a = c_wchar_p(\"Hello world\")\n",
    "print(a.value)"
   ]
  },
  {
   "cell_type": "code",
   "execution_count": 3,
   "metadata": {
    "tags": [
     "代码"
    ]
   },
   "outputs": [
    {
     "name": "stdout",
     "output_type": "stream",
     "text": [
      "B as a long: 66\n",
      "B as a int: 66\n",
      "B as a char: b'B'\n"
     ]
    }
   ],
   "source": [
    "# 定义结构体\n",
    "from ctypes import *\n",
    "'''\n",
    "struct A{\n",
    "    int a;\n",
    "    int b;\n",
    "}\n",
    "'''\n",
    "class A(Structure):\n",
    "    _fields_ = [\n",
    "        (\"a\", c_int),\n",
    "        (\"b\", c_int),\n",
    "    ]\n",
    "\n",
    "# 定义联合体\n",
    "'''\n",
    "union{\n",
    "    long b_l;\n",
    "    int b_i;\n",
    "    char b_c[8];\n",
    "}B\n",
    "'''\n",
    "class B(Union):\n",
    "    _fields_ = [\n",
    "        (\"b_l\", c_long),\n",
    "        (\"b_i\", c_int),\n",
    "        (\"b_c\", c_char * 8),\n",
    "    ]\n",
    "\n",
    "my_B = B(66)\n",
    "print(\"B as a long: %ld\" % my_B.b_l)\n",
    "print(\"B as a int: %d\" % my_B.b_i)\n",
    "print(\"B as a char: %s\" % my_B.b_c)"
   ]
  },
  {
   "cell_type": "markdown",
   "metadata": {},
   "source": [
    "### 函数调用的约定\n",
    "1. 函数调用约定描述了如何以正确的方式调用某些特定类型的函数。包括：\n",
    "    + 函数参数在栈上的分配顺序\n",
    "    + 哪些参数会被压入栈中\n",
    "    + 哪些参数将通过寄存器传入\n",
    "    + 函数返回时函数栈的回收方式\n",
    "2. 两种最基本的函数调用约定：\n",
    "    + `cdecl`：规定函数的参数列表以从右向左的顺序入栈，并有函数的调用者负责清除栈上的参数。大多数\n",
    "    + `stdcall`"
   ]
  }
 ],
 "metadata": {
  "celltoolbar": "Tags",
  "kernelspec": {
   "display_name": "Python 3",
   "language": "python",
   "name": "python3"
  },
  "language_info": {
   "codemirror_mode": {
    "name": "ipython",
    "version": 3
   },
   "file_extension": ".py",
   "mimetype": "text/x-python",
   "name": "python",
   "nbconvert_exporter": "python",
   "pygments_lexer": "ipython3",
   "version": "3.6.5"
  }
 },
 "nbformat": 4,
 "nbformat_minor": 2
}
